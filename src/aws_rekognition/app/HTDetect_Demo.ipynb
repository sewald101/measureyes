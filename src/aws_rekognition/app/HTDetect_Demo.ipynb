{
 "cells": [
  {
   "cell_type": "markdown",
   "metadata": {},
   "source": [
    "## Measureyes HTDetect.py Demo -- Acting on data extracted from AWS Rekognition\n",
    "\n",
    "The `HTDetect` class extracts **Head Turns (HTs)** from data produced by the processing of a stored target video via AWS Rekognition. This class offers a set of parameters that allow researchers and consultants to \"tune\" qualifications defining an HT and related metrics, such as **Head-Turn Rate (HTR)**, for A/B tests.\n",
    "\n",
    "To run this demo live, use the csv file found [here](https://github.com/sewald101/measureyes/blob/master/src/aws_rekognition/data/measureyes_0924_01.csv) and the queries found [here](https://github.com/sewald101/measureyes/blob/master/src/aws_rekognition/app/measureyes.sql) to set up a local Postgres/measureyes database and `Measureyes_0924_01` data table.  \n",
    "  \n",
    "\n",
    "#### First Step: Import module and initialize `HTDetect` class with target data (named here for unique video ID)"
   ]
  },
  {
   "cell_type": "code",
   "execution_count": 1,
   "metadata": {},
   "outputs": [],
   "source": [
    "import numpy as np\n",
    "import pandas as pd\n",
    "\n",
    "from HTDetect import HTDetect"
   ]
  },
  {
   "cell_type": "code",
   "execution_count": 2,
   "metadata": {},
   "outputs": [],
   "source": [
    "target_vid = 'Measureyes_0924_01'\n",
    "\n",
    "demo_1 = HTDetect(target_vid) # Initialize HTDetect class with video ID."
   ]
  },
  {
   "cell_type": "markdown",
   "metadata": {},
   "source": [
    "#### Second Step: Execute `main()` method with optional parameters to qualify head turns; defaults shown below.\n",
    "(Except default for `print_results=False`)"
   ]
  },
  {
   "cell_type": "code",
   "execution_count": 3,
   "metadata": {},
   "outputs": [
    {
     "name": "stdout",
     "output_type": "stream",
     "text": [
      "\n",
      " Total Persons Detected: _____166\n",
      " Total HTers: __________________5\n",
      " Total HTs Detected: __________21\n",
      "\n",
      " Head-Turn Rate: ___________0.030\n",
      "\n",
      " ~~~~~~~~~~~~~~~~~~~~~~~~~~~~~~~~~~~~~~~~~~~~~~~~~~~~~~~~~~~~~~~~~~~~~~~~~~~~~~~~\n",
      " Source Video ID: Measureyes_0924_01\n",
      " Head-Turn Parameters:\n",
      "     Yaw Threshold (max allowable face angle left or right of camera): 45 degrees\n",
      "     Pitch Threshold (max allowable angle up or down from camera): 45 degrees\n",
      "     Minimum dwell to qualify: 1.5 seconds\n",
      "     Minimum duration (break) between multiple HTs by single person: 1.5 seconds\n",
      " \n"
     ]
    }
   ],
   "source": [
    "demo_1.main(yaw_threshold=45, # Degrees of head pose left and right of camera center within which to qualify as HT\n",
    "            pitch_threshold=45, # Degrees, ditto: head pose up and down from camera center \n",
    "            dwell_threshold=1.5, # Seconds, minimum necessary of head turned toward camera to qualify as HT\n",
    "            HT_break=1.5, # Seconds, minimum interruption of HT for single viewer to constitute a break bw HTs\n",
    "            print_results=True # Print a summary of results\n",
    "           )"
   ]
  },
  {
   "cell_type": "markdown",
   "metadata": {},
   "source": [
    "#### Aggregate statistics are accessible through the following `HTDetect` attributes."
   ]
  },
  {
   "cell_type": "code",
   "execution_count": 4,
   "metadata": {},
   "outputs": [
    {
     "name": "stdout",
     "output_type": "stream",
     "text": [
      "Count of distinct persons detected in video:  166\n",
      "Count of distinct persons detected who made HTs:  5\n",
      "Head-Turn Rate, the ratio of HTers to total persons detected: 0.030\n",
      "Count of HTs detected: 21\n"
     ]
    }
   ],
   "source": [
    "print(\"Count of distinct persons detected in video: \", demo_1.ttl_persons)\n",
    "print(\"Count of distinct persons detected who made HTs: \", demo_1.HTers)\n",
    "print(\"Head-Turn Rate, the ratio of HTers to total persons detected: {:.3f}\".format(demo_1.HTR))\n",
    "print(\"Count of HTs detected: {}\".format(len(demo_1.HTs_df)))"
   ]
  },
  {
   "cell_type": "markdown",
   "metadata": {},
   "source": [
    "#### Data for HTs are returned in the `HTDetect.HTS_df` object.\n",
    "\n",
    "HTs are ordered chronologically by HT_start, a timestamp of milliseconds from the start of the target video.  \n",
    "Use Pandas `DataFrame.sort_values(by=col)` method to sort by dwell time or by person_index."
   ]
  },
  {
   "cell_type": "code",
   "execution_count": 5,
   "metadata": {},
   "outputs": [
    {
     "data": {
      "text/html": [
       "<div>\n",
       "<style scoped>\n",
       "    .dataframe tbody tr th:only-of-type {\n",
       "        vertical-align: middle;\n",
       "    }\n",
       "\n",
       "    .dataframe tbody tr th {\n",
       "        vertical-align: top;\n",
       "    }\n",
       "\n",
       "    .dataframe thead th {\n",
       "        text-align: right;\n",
       "    }\n",
       "</style>\n",
       "<table border=\"1\" class=\"dataframe\">\n",
       "  <thead>\n",
       "    <tr style=\"text-align: right;\">\n",
       "      <th></th>\n",
       "      <th>HT_start</th>\n",
       "      <th>HT_dwell</th>\n",
       "      <th>person_index</th>\n",
       "    </tr>\n",
       "  </thead>\n",
       "  <tbody>\n",
       "    <tr>\n",
       "      <th>1</th>\n",
       "      <td>6381</td>\n",
       "      <td>5.005</td>\n",
       "      <td>33</td>\n",
       "    </tr>\n",
       "    <tr>\n",
       "      <th>2</th>\n",
       "      <td>9175</td>\n",
       "      <td>3.003</td>\n",
       "      <td>32</td>\n",
       "    </tr>\n",
       "    <tr>\n",
       "      <th>3</th>\n",
       "      <td>17976</td>\n",
       "      <td>3.420</td>\n",
       "      <td>34</td>\n",
       "    </tr>\n",
       "    <tr>\n",
       "      <th>4</th>\n",
       "      <td>27402</td>\n",
       "      <td>6.798</td>\n",
       "      <td>32</td>\n",
       "    </tr>\n",
       "    <tr>\n",
       "      <th>5</th>\n",
       "      <td>32198</td>\n",
       "      <td>2.586</td>\n",
       "      <td>46</td>\n",
       "    </tr>\n",
       "    <tr>\n",
       "      <th>6</th>\n",
       "      <td>37412</td>\n",
       "      <td>8.175</td>\n",
       "      <td>32</td>\n",
       "    </tr>\n",
       "    <tr>\n",
       "      <th>7</th>\n",
       "      <td>41207</td>\n",
       "      <td>3.003</td>\n",
       "      <td>34</td>\n",
       "    </tr>\n",
       "    <tr>\n",
       "      <th>8</th>\n",
       "      <td>47005</td>\n",
       "      <td>4.421</td>\n",
       "      <td>47</td>\n",
       "    </tr>\n",
       "    <tr>\n",
       "      <th>9</th>\n",
       "      <td>47213</td>\n",
       "      <td>4.213</td>\n",
       "      <td>32</td>\n",
       "    </tr>\n",
       "    <tr>\n",
       "      <th>10</th>\n",
       "      <td>60018</td>\n",
       "      <td>5.797</td>\n",
       "      <td>34</td>\n",
       "    </tr>\n",
       "    <tr>\n",
       "      <th>11</th>\n",
       "      <td>64022</td>\n",
       "      <td>4.421</td>\n",
       "      <td>32</td>\n",
       "    </tr>\n",
       "    <tr>\n",
       "      <th>12</th>\n",
       "      <td>73239</td>\n",
       "      <td>2.586</td>\n",
       "      <td>46</td>\n",
       "    </tr>\n",
       "    <tr>\n",
       "      <th>13</th>\n",
       "      <td>75450</td>\n",
       "      <td>1.793</td>\n",
       "      <td>33</td>\n",
       "    </tr>\n",
       "    <tr>\n",
       "      <th>14</th>\n",
       "      <td>76034</td>\n",
       "      <td>2.002</td>\n",
       "      <td>32</td>\n",
       "    </tr>\n",
       "    <tr>\n",
       "      <th>15</th>\n",
       "      <td>84250</td>\n",
       "      <td>2.002</td>\n",
       "      <td>32</td>\n",
       "    </tr>\n",
       "    <tr>\n",
       "      <th>16</th>\n",
       "      <td>86252</td>\n",
       "      <td>9.218</td>\n",
       "      <td>34</td>\n",
       "    </tr>\n",
       "    <tr>\n",
       "      <th>17</th>\n",
       "      <td>101267</td>\n",
       "      <td>2.211</td>\n",
       "      <td>32</td>\n",
       "    </tr>\n",
       "    <tr>\n",
       "      <th>18</th>\n",
       "      <td>104854</td>\n",
       "      <td>3.420</td>\n",
       "      <td>34</td>\n",
       "    </tr>\n",
       "    <tr>\n",
       "      <th>19</th>\n",
       "      <td>110276</td>\n",
       "      <td>4.213</td>\n",
       "      <td>33</td>\n",
       "    </tr>\n",
       "    <tr>\n",
       "      <th>20</th>\n",
       "      <td>112487</td>\n",
       "      <td>1.585</td>\n",
       "      <td>32</td>\n",
       "    </tr>\n",
       "    <tr>\n",
       "      <th>21</th>\n",
       "      <td>121496</td>\n",
       "      <td>3.795</td>\n",
       "      <td>47</td>\n",
       "    </tr>\n",
       "  </tbody>\n",
       "</table>\n",
       "</div>"
      ],
      "text/plain": [
       "    HT_start  HT_dwell  person_index\n",
       "1       6381     5.005            33\n",
       "2       9175     3.003            32\n",
       "3      17976     3.420            34\n",
       "4      27402     6.798            32\n",
       "5      32198     2.586            46\n",
       "6      37412     8.175            32\n",
       "7      41207     3.003            34\n",
       "8      47005     4.421            47\n",
       "9      47213     4.213            32\n",
       "10     60018     5.797            34\n",
       "11     64022     4.421            32\n",
       "12     73239     2.586            46\n",
       "13     75450     1.793            33\n",
       "14     76034     2.002            32\n",
       "15     84250     2.002            32\n",
       "16     86252     9.218            34\n",
       "17    101267     2.211            32\n",
       "18    104854     3.420            34\n",
       "19    110276     4.213            33\n",
       "20    112487     1.585            32\n",
       "21    121496     3.795            47"
      ]
     },
     "execution_count": 5,
     "metadata": {},
     "output_type": "execute_result"
    }
   ],
   "source": [
    "demo_1.HTs_df"
   ]
  },
  {
   "cell_type": "markdown",
   "metadata": {},
   "source": [
    "  "
   ]
  },
  {
   "cell_type": "markdown",
   "metadata": {},
   "source": [
    "  "
   ]
  },
  {
   "cell_type": "markdown",
   "metadata": {},
   "source": [
    "#### The `HTDetect` class provides other data products for the researcher's / consultant's reference:\n",
    "\n",
    "1. `HTDetect.all_records_df`: a DataFrame of all original data (person-detection records) queried from the database."
   ]
  },
  {
   "cell_type": "code",
   "execution_count": 6,
   "metadata": {},
   "outputs": [
    {
     "name": "stdout",
     "output_type": "stream",
     "text": [
      "Number of records:  9069\n"
     ]
    },
    {
     "data": {
      "text/html": [
       "<div>\n",
       "<style scoped>\n",
       "    .dataframe tbody tr th:only-of-type {\n",
       "        vertical-align: middle;\n",
       "    }\n",
       "\n",
       "    .dataframe tbody tr th {\n",
       "        vertical-align: top;\n",
       "    }\n",
       "\n",
       "    .dataframe thead th {\n",
       "        text-align: right;\n",
       "    }\n",
       "</style>\n",
       "<table border=\"1\" class=\"dataframe\">\n",
       "  <thead>\n",
       "    <tr style=\"text-align: right;\">\n",
       "      <th></th>\n",
       "      <th>source_file</th>\n",
       "      <th>timestamp</th>\n",
       "      <th>person_index</th>\n",
       "      <th>face_yaw</th>\n",
       "      <th>face_pitch</th>\n",
       "      <th>face_box_top</th>\n",
       "      <th>face_box_left</th>\n",
       "    </tr>\n",
       "  </thead>\n",
       "  <tbody>\n",
       "    <tr>\n",
       "      <th>0</th>\n",
       "      <td>Measureyes_0924_01_response_0001.json</td>\n",
       "      <td>0</td>\n",
       "      <td>0</td>\n",
       "      <td>NaN</td>\n",
       "      <td>NaN</td>\n",
       "      <td>NaN</td>\n",
       "      <td>NaN</td>\n",
       "    </tr>\n",
       "    <tr>\n",
       "      <th>1</th>\n",
       "      <td>Measureyes_0924_01_response_0001.json</td>\n",
       "      <td>41</td>\n",
       "      <td>0</td>\n",
       "      <td>NaN</td>\n",
       "      <td>NaN</td>\n",
       "      <td>NaN</td>\n",
       "      <td>NaN</td>\n",
       "    </tr>\n",
       "    <tr>\n",
       "      <th>2</th>\n",
       "      <td>Measureyes_0924_01_response_0001.json</td>\n",
       "      <td>125</td>\n",
       "      <td>0</td>\n",
       "      <td>NaN</td>\n",
       "      <td>NaN</td>\n",
       "      <td>NaN</td>\n",
       "      <td>NaN</td>\n",
       "    </tr>\n",
       "    <tr>\n",
       "      <th>3</th>\n",
       "      <td>Measureyes_0924_01_response_0001.json</td>\n",
       "      <td>166</td>\n",
       "      <td>0</td>\n",
       "      <td>NaN</td>\n",
       "      <td>NaN</td>\n",
       "      <td>NaN</td>\n",
       "      <td>NaN</td>\n",
       "    </tr>\n",
       "    <tr>\n",
       "      <th>4</th>\n",
       "      <td>Measureyes_0924_01_response_0001.json</td>\n",
       "      <td>250</td>\n",
       "      <td>0</td>\n",
       "      <td>NaN</td>\n",
       "      <td>NaN</td>\n",
       "      <td>NaN</td>\n",
       "      <td>NaN</td>\n",
       "    </tr>\n",
       "  </tbody>\n",
       "</table>\n",
       "</div>"
      ],
      "text/plain": [
       "                             source_file  timestamp  person_index  face_yaw  \\\n",
       "0  Measureyes_0924_01_response_0001.json          0             0       NaN   \n",
       "1  Measureyes_0924_01_response_0001.json         41             0       NaN   \n",
       "2  Measureyes_0924_01_response_0001.json        125             0       NaN   \n",
       "3  Measureyes_0924_01_response_0001.json        166             0       NaN   \n",
       "4  Measureyes_0924_01_response_0001.json        250             0       NaN   \n",
       "\n",
       "   face_pitch  face_box_top  face_box_left  \n",
       "0         NaN           NaN            NaN  \n",
       "1         NaN           NaN            NaN  \n",
       "2         NaN           NaN            NaN  \n",
       "3         NaN           NaN            NaN  \n",
       "4         NaN           NaN            NaN  "
      ]
     },
     "execution_count": 6,
     "metadata": {},
     "output_type": "execute_result"
    }
   ],
   "source": [
    "print(\"Number of records: \", len(demo_1.all_records_df))\n",
    "demo_1.all_records_df.head()"
   ]
  },
  {
   "cell_type": "markdown",
   "metadata": {},
   "source": [
    "  "
   ]
  },
  {
   "cell_type": "markdown",
   "metadata": {},
   "source": [
    "  "
   ]
  },
  {
   "cell_type": "markdown",
   "metadata": {},
   "source": [
    "2. `HTDetect.facing_camera_df` provides a DataFrame of all records in which a head pose (i.e., face) was detected."
   ]
  },
  {
   "cell_type": "code",
   "execution_count": 7,
   "metadata": {},
   "outputs": [
    {
     "name": "stdout",
     "output_type": "stream",
     "text": [
      "Number of records:  508\n"
     ]
    },
    {
     "data": {
      "text/html": [
       "<div>\n",
       "<style scoped>\n",
       "    .dataframe tbody tr th:only-of-type {\n",
       "        vertical-align: middle;\n",
       "    }\n",
       "\n",
       "    .dataframe tbody tr th {\n",
       "        vertical-align: top;\n",
       "    }\n",
       "\n",
       "    .dataframe thead th {\n",
       "        text-align: right;\n",
       "    }\n",
       "</style>\n",
       "<table border=\"1\" class=\"dataframe\">\n",
       "  <thead>\n",
       "    <tr style=\"text-align: right;\">\n",
       "      <th></th>\n",
       "      <th>timestamp</th>\n",
       "      <th>person_index</th>\n",
       "      <th>face_yaw</th>\n",
       "      <th>face_pitch</th>\n",
       "    </tr>\n",
       "  </thead>\n",
       "  <tbody>\n",
       "    <tr>\n",
       "      <th>893</th>\n",
       "      <td>11386</td>\n",
       "      <td>19</td>\n",
       "      <td>-32.426006</td>\n",
       "      <td>-4.658849</td>\n",
       "    </tr>\n",
       "    <tr>\n",
       "      <th>2046</th>\n",
       "      <td>6172</td>\n",
       "      <td>31</td>\n",
       "      <td>-31.617493</td>\n",
       "      <td>-2.338707</td>\n",
       "    </tr>\n",
       "    <tr>\n",
       "      <th>2058</th>\n",
       "      <td>5797</td>\n",
       "      <td>32</td>\n",
       "      <td>-2.420268</td>\n",
       "      <td>0.076770</td>\n",
       "    </tr>\n",
       "    <tr>\n",
       "      <th>2059</th>\n",
       "      <td>6798</td>\n",
       "      <td>32</td>\n",
       "      <td>-14.524308</td>\n",
       "      <td>-2.389813</td>\n",
       "    </tr>\n",
       "    <tr>\n",
       "      <th>2061</th>\n",
       "      <td>8383</td>\n",
       "      <td>32</td>\n",
       "      <td>-60.660793</td>\n",
       "      <td>-12.552453</td>\n",
       "    </tr>\n",
       "  </tbody>\n",
       "</table>\n",
       "</div>"
      ],
      "text/plain": [
       "      timestamp  person_index   face_yaw  face_pitch\n",
       "893       11386            19 -32.426006   -4.658849\n",
       "2046       6172            31 -31.617493   -2.338707\n",
       "2058       5797            32  -2.420268    0.076770\n",
       "2059       6798            32 -14.524308   -2.389813\n",
       "2061       8383            32 -60.660793  -12.552453"
      ]
     },
     "execution_count": 7,
     "metadata": {},
     "output_type": "execute_result"
    }
   ],
   "source": [
    "print(\"Number of records: \", len(demo_1.facing_camera_df))\n",
    "demo_1.facing_camera_df.head()"
   ]
  },
  {
   "cell_type": "markdown",
   "metadata": {},
   "source": [
    "  "
   ]
  },
  {
   "cell_type": "markdown",
   "metadata": {},
   "source": [
    "  "
   ]
  },
  {
   "cell_type": "markdown",
   "metadata": {},
   "source": [
    "3. `HTDetect.filtered_by_pose` provides a DataFrame of all records that fell within specified pose (face_yaw, face_pitch) parameters"
   ]
  },
  {
   "cell_type": "code",
   "execution_count": 8,
   "metadata": {},
   "outputs": [
    {
     "name": "stdout",
     "output_type": "stream",
     "text": [
      "Number of records:  444\n"
     ]
    },
    {
     "data": {
      "text/html": [
       "<div>\n",
       "<style scoped>\n",
       "    .dataframe tbody tr th:only-of-type {\n",
       "        vertical-align: middle;\n",
       "    }\n",
       "\n",
       "    .dataframe tbody tr th {\n",
       "        vertical-align: top;\n",
       "    }\n",
       "\n",
       "    .dataframe thead th {\n",
       "        text-align: right;\n",
       "    }\n",
       "</style>\n",
       "<table border=\"1\" class=\"dataframe\">\n",
       "  <thead>\n",
       "    <tr style=\"text-align: right;\">\n",
       "      <th></th>\n",
       "      <th>timestamp</th>\n",
       "      <th>person_index</th>\n",
       "      <th>face_yaw</th>\n",
       "      <th>face_pitch</th>\n",
       "    </tr>\n",
       "  </thead>\n",
       "  <tbody>\n",
       "    <tr>\n",
       "      <th>893</th>\n",
       "      <td>11386</td>\n",
       "      <td>19</td>\n",
       "      <td>-32.426006</td>\n",
       "      <td>-4.658849</td>\n",
       "    </tr>\n",
       "    <tr>\n",
       "      <th>2046</th>\n",
       "      <td>6172</td>\n",
       "      <td>31</td>\n",
       "      <td>-31.617493</td>\n",
       "      <td>-2.338707</td>\n",
       "    </tr>\n",
       "    <tr>\n",
       "      <th>2058</th>\n",
       "      <td>5797</td>\n",
       "      <td>32</td>\n",
       "      <td>-2.420268</td>\n",
       "      <td>0.076770</td>\n",
       "    </tr>\n",
       "    <tr>\n",
       "      <th>2059</th>\n",
       "      <td>6798</td>\n",
       "      <td>32</td>\n",
       "      <td>-14.524308</td>\n",
       "      <td>-2.389813</td>\n",
       "    </tr>\n",
       "    <tr>\n",
       "      <th>2066</th>\n",
       "      <td>9175</td>\n",
       "      <td>32</td>\n",
       "      <td>-44.529732</td>\n",
       "      <td>-2.461496</td>\n",
       "    </tr>\n",
       "  </tbody>\n",
       "</table>\n",
       "</div>"
      ],
      "text/plain": [
       "      timestamp  person_index   face_yaw  face_pitch\n",
       "893       11386            19 -32.426006   -4.658849\n",
       "2046       6172            31 -31.617493   -2.338707\n",
       "2058       5797            32  -2.420268    0.076770\n",
       "2059       6798            32 -14.524308   -2.389813\n",
       "2066       9175            32 -44.529732   -2.461496"
      ]
     },
     "execution_count": 8,
     "metadata": {},
     "output_type": "execute_result"
    }
   ],
   "source": [
    "print(\"Number of records: \", len(demo_1.filtered_by_pose))\n",
    "demo_1.filtered_by_pose.head()"
   ]
  },
  {
   "cell_type": "markdown",
   "metadata": {},
   "source": [
    "  "
   ]
  },
  {
   "cell_type": "markdown",
   "metadata": {},
   "source": [
    "  "
   ]
  },
  {
   "cell_type": "markdown",
   "metadata": {},
   "source": [
    "**Tightening (or loosening) the paramaters to qualify HTs from the data is as simple as modifying the arguments in the `HTDetect.main()` method.**\n",
    "\n",
    "Example 1: Let's say we only want to count a head turn where the viewers head \"yaw\" was no more than **30 degrees from camera center** (as opposed to the 45-degree default). Notice only 16 HTs detected under this tightened parameter as opposed to 21 HTs under the default setting."
   ]
  },
  {
   "cell_type": "code",
   "execution_count": 9,
   "metadata": {},
   "outputs": [
    {
     "name": "stdout",
     "output_type": "stream",
     "text": [
      "\n",
      " Total Persons Detected: _____166\n",
      " Total HTers: __________________5\n",
      " Total HTs Detected: __________16\n",
      "\n",
      " Head-Turn Rate: ___________0.030\n",
      "\n",
      " ~~~~~~~~~~~~~~~~~~~~~~~~~~~~~~~~~~~~~~~~~~~~~~~~~~~~~~~~~~~~~~~~~~~~~~~~~~~~~~~~\n",
      " Source Video ID: Measureyes_0924_01\n",
      " Head-Turn Parameters:\n",
      "     Yaw Threshold (max allowable face angle left or right of camera): 30 degrees\n",
      "     Pitch Threshold (max allowable angle up or down from camera): 45 degrees\n",
      "     Minimum dwell to qualify: 1.5 seconds\n",
      "     Minimum duration (break) between multiple HTs by single person: 1.5 seconds\n",
      " \n"
     ]
    }
   ],
   "source": [
    "demo_2 = HTDetect(target_vid)\n",
    "demo_2.main(yaw_threshold=30, print_results=True)"
   ]
  },
  {
   "cell_type": "markdown",
   "metadata": {},
   "source": [
    "   "
   ]
  },
  {
   "cell_type": "markdown",
   "metadata": {},
   "source": [
    "   "
   ]
  },
  {
   "cell_type": "markdown",
   "metadata": {},
   "source": [
    "Example 2: Or let's say we only want to count a head turn if the viewer was **looking toward the camera for a minimum of 3 seconds** (i.e., a 3-second \"dwell\" versus the 1.5 second default). Notice only 14 HTs registered under this tightened parameter."
   ]
  },
  {
   "cell_type": "code",
   "execution_count": 10,
   "metadata": {},
   "outputs": [
    {
     "name": "stdout",
     "output_type": "stream",
     "text": [
      "\n",
      " Total Persons Detected: _____166\n",
      " Total HTers: __________________4\n",
      " Total HTs Detected: __________14\n",
      "\n",
      " Head-Turn Rate: ___________0.024\n",
      "\n",
      " ~~~~~~~~~~~~~~~~~~~~~~~~~~~~~~~~~~~~~~~~~~~~~~~~~~~~~~~~~~~~~~~~~~~~~~~~~~~~~~~~\n",
      " Source Video ID: Measureyes_0924_01\n",
      " Head-Turn Parameters:\n",
      "     Yaw Threshold (max allowable face angle left or right of camera): 45 degrees\n",
      "     Pitch Threshold (max allowable angle up or down from camera): 45 degrees\n",
      "     Minimum dwell to qualify: 3 seconds\n",
      "     Minimum duration (break) between multiple HTs by single person: 1.5 seconds\n",
      " \n"
     ]
    }
   ],
   "source": [
    "demo_3 = HTDetect(target_vid)\n",
    "demo_3.main(dwell_threshold=3, print_results=True)"
   ]
  },
  {
   "cell_type": "code",
   "execution_count": null,
   "metadata": {},
   "outputs": [],
   "source": []
  }
 ],
 "metadata": {
  "kernelspec": {
   "display_name": "Python 3",
   "language": "python",
   "name": "python3"
  },
  "language_info": {
   "codemirror_mode": {
    "name": "ipython",
    "version": 3
   },
   "file_extension": ".py",
   "mimetype": "text/x-python",
   "name": "python",
   "nbconvert_exporter": "python",
   "pygments_lexer": "ipython3",
   "version": "3.6.5"
  }
 },
 "nbformat": 4,
 "nbformat_minor": 2
}
