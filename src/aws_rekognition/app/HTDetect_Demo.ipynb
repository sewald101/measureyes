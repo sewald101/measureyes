{
 "cells": [
  {
   "cell_type": "code",
   "execution_count": 63,
   "metadata": {},
   "outputs": [],
   "source": [
    "import numpy as np\n",
    "import pandas as pd\n",
    "\n",
    "from HTDetect import HTDetect"
   ]
  },
  {
   "cell_type": "code",
   "execution_count": null,
   "metadata": {},
   "outputs": [],
   "source": []
  },
  {
   "cell_type": "code",
   "execution_count": 64,
   "metadata": {},
   "outputs": [],
   "source": [
    "target_vid = 'Measureyes_0924_01'\n",
    "\n",
    "demo_1 = HTDetect(target_vid) # Initialize HTDetect object with video ID"
   ]
  },
  {
   "cell_type": "markdown",
   "metadata": {},
   "source": [
    "#### Execute `main()` method with optional parameters to qualify head turns; defaults shown below."
   ]
  },
  {
   "cell_type": "code",
   "execution_count": 65,
   "metadata": {},
   "outputs": [
    {
     "name": "stdout",
     "output_type": "stream",
     "text": [
      "\n",
      " Total Persons Detected: _____166\n",
      " Total HTers: __________________5\n",
      " Total HTs Detected: __________21\n",
      "\n",
      " Head-Turn Rate: ___________0.030\n",
      " ~~~~~~~~~~~~~~~~~~~~~~~~~~~~~~~~~~~~~~~~~~~~~~~~~~~~~~~~~~~~~~~~~~~~\n",
      " Source Video ID: Measureyes_0924_01\n",
      " Head xTurn Parameters:\n",
      "     Yaw Threshold (max allowable face angle left or right of camera): 45 degrees\n",
      "     Pitch Threshold (max allowable angle up or down from camera): 45 degrees\n",
      "     Minimum dwell to qualify: 1.5 seconds\n",
      "     Minimum duration (break) between multiple HTs by single person: 1.5 seconds\n",
      " \n"
     ]
    }
   ],
   "source": [
    "demo_1.main(yaw_threshold=45, # Degrees of head pose left and right of camera center within which to qualify as HT\n",
    "            pitch_threshold=45, # Degrees, ditto: head pose up and down from camera center \n",
    "            dwell_threshold=1.5, # Seconds, minimum necessary of head turned toward camera to qualify as HT\n",
    "            HT_break=1.5, # Seconds, minimum interruption of HT for single viewer to constitute a break bw HTs\n",
    "            print_results=True # Print a summary of results\n",
    "           )"
   ]
  },
  {
   "cell_type": "code",
   "execution_count": 5,
   "metadata": {},
   "outputs": [
    {
     "name": "stdout",
     "output_type": "stream",
     "text": [
      "Count of distinct persons detected in video:  166\n",
      "Count of distinct persons detected who made HTs:  5\n",
      "Head-Turn Rate, the ratio of HTers to total persons detected:  0.030120481927710843\n"
     ]
    }
   ],
   "source": [
    "print(\"Count of distinct persons detected in video: \", demo_1.ttl_persons)\n",
    "print(\"Count of distinct persons detected who made HTs: \", demo_1.HTers)\n",
    "print(\"Head-Turn Rate, the ratio of HTers to total persons detected: \", demo_1.HTR)"
   ]
  },
  {
   "cell_type": "code",
   "execution_count": null,
   "metadata": {},
   "outputs": [],
   "source": []
  }
 ],
 "metadata": {
  "kernelspec": {
   "display_name": "Python 3",
   "language": "python",
   "name": "python3"
  },
  "language_info": {
   "codemirror_mode": {
    "name": "ipython",
    "version": 3
   },
   "file_extension": ".py",
   "mimetype": "text/x-python",
   "name": "python",
   "nbconvert_exporter": "python",
   "pygments_lexer": "ipython3",
   "version": "3.6.5"
  }
 },
 "nbformat": 4,
 "nbformat_minor": 2
}
