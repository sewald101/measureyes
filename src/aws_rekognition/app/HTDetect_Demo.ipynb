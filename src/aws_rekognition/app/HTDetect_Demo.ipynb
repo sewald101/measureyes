{
 "cells": [
  {
   "cell_type": "code",
   "execution_count": 7,
   "metadata": {},
   "outputs": [],
   "source": [
    "import numpy as np\n",
    "import pandas as pd\n",
    "\n",
    "from HTDetect import HTDetect"
   ]
  },
  {
   "cell_type": "code",
   "execution_count": null,
   "metadata": {},
   "outputs": [],
   "source": []
  },
  {
   "cell_type": "code",
   "execution_count": 8,
   "metadata": {},
   "outputs": [],
   "source": [
    "target_vid = 'Measureyes_0924_01'\n",
    "\n",
    "demo_1 = HTDetect(target_vid) # Initialize HTDetect object with video ID"
   ]
  },
  {
   "cell_type": "markdown",
   "metadata": {},
   "source": [
    "#### Execute `main()` method with optional parameters to qualify head turns; defaults shown below."
   ]
  },
  {
   "cell_type": "code",
   "execution_count": 9,
   "metadata": {},
   "outputs": [
    {
     "name": "stdout",
     "output_type": "stream",
     "text": [
      "\n",
      " Total Persons Detected: _____166\n",
      " Total HTers: __________________5\n",
      " Total HTs Detected: __________21\n",
      "\n",
      " Head-Turn Rate: ___________0.030\n",
      " \n",
      " ~~~~~~~~~~~~~~~~~~~~~~~~~~~~~~~~~~~~~~~~~~~~~~~~~~~~~~~~~~~~~~~~~~~~\n",
      " Source Video ID: Measureyes_0924_01\n",
      " Head xTurn Parameters:\n",
      "     Yaw Threshold (max allowable face angle left or right of camera): 45 degrees\n",
      "     Pitch Threshold (max allowable angle up or down from camera): 45 degrees\n",
      "     Minimum dwell to qualify: 1.5 seconds\n",
      "     Minimum duration (break) between multiple HTs by single person: 1.5 seconds\n",
      " \n"
     ]
    }
   ],
   "source": [
    "demo_1.main(yaw_threshold=45, # Degrees of head pose left and right of camera center within which to qualify as HT\n",
    "            pitch_threshold=45, # Degrees, ditto: head pose up and down from camera center \n",
    "            dwell_threshold=1.5, # Seconds, minimum necessary of head turned toward camera to qualify as HT\n",
    "            HT_break=1.5, # Seconds, minimum interruption of HT for single viewer to constitute a break bw HTs\n",
    "            print_results=True # Print a summary of results\n",
    "           )"
   ]
  },
  {
   "cell_type": "markdown",
   "metadata": {},
   "source": [
    "#### Aggregate statistics are accessible through the following HTDetect attributes"
   ]
  },
  {
   "cell_type": "code",
   "execution_count": 13,
   "metadata": {},
   "outputs": [
    {
     "name": "stdout",
     "output_type": "stream",
     "text": [
      "Count of distinct persons detected in video:  166\n",
      "Count of distinct persons detected who made HTs:  5\n",
      "Head-Turn Rate, the ratio of HTers to total persons detected: 0.030\n",
      "Count of HTs detected: 21\n"
     ]
    }
   ],
   "source": [
    "print(\"Count of distinct persons detected in video: \", demo_1.ttl_persons)\n",
    "print(\"Count of distinct persons detected who made HTs: \", demo_1.HTers)\n",
    "print(\"Head-Turn Rate, the ratio of HTers to total persons detected: {:.3f}\".format(demo_1.HTR))\n",
    "print(\"Count of HTs detected: {}\".format(len(demo_1.HTs_df)))"
   ]
  },
  {
   "cell_type": "markdown",
   "metadata": {},
   "source": [
    "#### Data for HTs are returned in the `HTDetect.HTS_df` object.\n",
    "\n",
    "HTs are ordered chronologically by HT_start, a timestamp of milliseconds from the start of the target video.  \n",
    "Use Pandas `DataFrame.sort_values(by=col)` method to sort by dwell time or by person_index."
   ]
  },
  {
   "cell_type": "code",
   "execution_count": 14,
   "metadata": {},
   "outputs": [
    {
     "data": {
      "text/html": [
       "<div>\n",
       "<style scoped>\n",
       "    .dataframe tbody tr th:only-of-type {\n",
       "        vertical-align: middle;\n",
       "    }\n",
       "\n",
       "    .dataframe tbody tr th {\n",
       "        vertical-align: top;\n",
       "    }\n",
       "\n",
       "    .dataframe thead th {\n",
       "        text-align: right;\n",
       "    }\n",
       "</style>\n",
       "<table border=\"1\" class=\"dataframe\">\n",
       "  <thead>\n",
       "    <tr style=\"text-align: right;\">\n",
       "      <th></th>\n",
       "      <th>HT_start</th>\n",
       "      <th>HT_dwell</th>\n",
       "      <th>person_index</th>\n",
       "    </tr>\n",
       "  </thead>\n",
       "  <tbody>\n",
       "    <tr>\n",
       "      <th>1</th>\n",
       "      <td>6381</td>\n",
       "      <td>5.005</td>\n",
       "      <td>33</td>\n",
       "    </tr>\n",
       "    <tr>\n",
       "      <th>2</th>\n",
       "      <td>9175</td>\n",
       "      <td>3.003</td>\n",
       "      <td>32</td>\n",
       "    </tr>\n",
       "    <tr>\n",
       "      <th>3</th>\n",
       "      <td>17976</td>\n",
       "      <td>3.420</td>\n",
       "      <td>34</td>\n",
       "    </tr>\n",
       "    <tr>\n",
       "      <th>4</th>\n",
       "      <td>27402</td>\n",
       "      <td>6.798</td>\n",
       "      <td>32</td>\n",
       "    </tr>\n",
       "    <tr>\n",
       "      <th>5</th>\n",
       "      <td>32198</td>\n",
       "      <td>2.586</td>\n",
       "      <td>46</td>\n",
       "    </tr>\n",
       "    <tr>\n",
       "      <th>6</th>\n",
       "      <td>37412</td>\n",
       "      <td>8.175</td>\n",
       "      <td>32</td>\n",
       "    </tr>\n",
       "    <tr>\n",
       "      <th>7</th>\n",
       "      <td>41207</td>\n",
       "      <td>3.003</td>\n",
       "      <td>34</td>\n",
       "    </tr>\n",
       "    <tr>\n",
       "      <th>8</th>\n",
       "      <td>47005</td>\n",
       "      <td>4.421</td>\n",
       "      <td>47</td>\n",
       "    </tr>\n",
       "    <tr>\n",
       "      <th>9</th>\n",
       "      <td>47213</td>\n",
       "      <td>4.213</td>\n",
       "      <td>32</td>\n",
       "    </tr>\n",
       "    <tr>\n",
       "      <th>10</th>\n",
       "      <td>60018</td>\n",
       "      <td>5.797</td>\n",
       "      <td>34</td>\n",
       "    </tr>\n",
       "    <tr>\n",
       "      <th>11</th>\n",
       "      <td>64022</td>\n",
       "      <td>4.421</td>\n",
       "      <td>32</td>\n",
       "    </tr>\n",
       "    <tr>\n",
       "      <th>12</th>\n",
       "      <td>73239</td>\n",
       "      <td>2.586</td>\n",
       "      <td>46</td>\n",
       "    </tr>\n",
       "    <tr>\n",
       "      <th>13</th>\n",
       "      <td>75450</td>\n",
       "      <td>1.793</td>\n",
       "      <td>33</td>\n",
       "    </tr>\n",
       "    <tr>\n",
       "      <th>14</th>\n",
       "      <td>76034</td>\n",
       "      <td>2.002</td>\n",
       "      <td>32</td>\n",
       "    </tr>\n",
       "    <tr>\n",
       "      <th>15</th>\n",
       "      <td>84250</td>\n",
       "      <td>2.002</td>\n",
       "      <td>32</td>\n",
       "    </tr>\n",
       "    <tr>\n",
       "      <th>16</th>\n",
       "      <td>86252</td>\n",
       "      <td>9.218</td>\n",
       "      <td>34</td>\n",
       "    </tr>\n",
       "    <tr>\n",
       "      <th>17</th>\n",
       "      <td>101267</td>\n",
       "      <td>2.211</td>\n",
       "      <td>32</td>\n",
       "    </tr>\n",
       "    <tr>\n",
       "      <th>18</th>\n",
       "      <td>104854</td>\n",
       "      <td>3.420</td>\n",
       "      <td>34</td>\n",
       "    </tr>\n",
       "    <tr>\n",
       "      <th>19</th>\n",
       "      <td>110276</td>\n",
       "      <td>4.213</td>\n",
       "      <td>33</td>\n",
       "    </tr>\n",
       "    <tr>\n",
       "      <th>20</th>\n",
       "      <td>112487</td>\n",
       "      <td>1.585</td>\n",
       "      <td>32</td>\n",
       "    </tr>\n",
       "    <tr>\n",
       "      <th>21</th>\n",
       "      <td>121496</td>\n",
       "      <td>3.795</td>\n",
       "      <td>47</td>\n",
       "    </tr>\n",
       "  </tbody>\n",
       "</table>\n",
       "</div>"
      ],
      "text/plain": [
       "    HT_start  HT_dwell  person_index\n",
       "1       6381     5.005            33\n",
       "2       9175     3.003            32\n",
       "3      17976     3.420            34\n",
       "4      27402     6.798            32\n",
       "5      32198     2.586            46\n",
       "6      37412     8.175            32\n",
       "7      41207     3.003            34\n",
       "8      47005     4.421            47\n",
       "9      47213     4.213            32\n",
       "10     60018     5.797            34\n",
       "11     64022     4.421            32\n",
       "12     73239     2.586            46\n",
       "13     75450     1.793            33\n",
       "14     76034     2.002            32\n",
       "15     84250     2.002            32\n",
       "16     86252     9.218            34\n",
       "17    101267     2.211            32\n",
       "18    104854     3.420            34\n",
       "19    110276     4.213            33\n",
       "20    112487     1.585            32\n",
       "21    121496     3.795            47"
      ]
     },
     "execution_count": 14,
     "metadata": {},
     "output_type": "execute_result"
    }
   ],
   "source": [
    "demo_1.HTs_df"
   ]
  },
  {
   "cell_type": "code",
   "execution_count": null,
   "metadata": {},
   "outputs": [],
   "source": []
  }
 ],
 "metadata": {
  "kernelspec": {
   "display_name": "Python 3",
   "language": "python",
   "name": "python3"
  },
  "language_info": {
   "codemirror_mode": {
    "name": "ipython",
    "version": 3
   },
   "file_extension": ".py",
   "mimetype": "text/x-python",
   "name": "python",
   "nbconvert_exporter": "python",
   "pygments_lexer": "ipython3",
   "version": "3.6.5"
  }
 },
 "nbformat": 4,
 "nbformat_minor": 2
}
